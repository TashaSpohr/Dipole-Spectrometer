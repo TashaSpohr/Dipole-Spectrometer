{
 "cells": [
  {
   "cell_type": "code",
   "execution_count": 1,
   "id": "71190599",
   "metadata": {},
   "outputs": [],
   "source": [
    "import numpy as np\n",
    "import csv"
   ]
  },
  {
   "cell_type": "markdown",
   "id": "c14fc6a6",
   "metadata": {},
   "source": [
    "# Erstellen des 3D Feldes\n",
    "\n",
    "Nehme hier die Werte aus dem 3DFeld file von CST und erstelle .bx, .by und .bz file für Astra"
   ]
  },
  {
   "cell_type": "code",
   "execution_count": 2,
   "id": "0403e406",
   "metadata": {},
   "outputs": [],
   "source": [
    "data = np.genfromtxt(\"B-Field [Ms]_NEW.txt\", skip_header = 2)\n",
    "data = np.transpose(data)"
   ]
  },
  {
   "cell_type": "code",
   "execution_count": 3,
   "id": "e2101574",
   "metadata": {},
   "outputs": [
    {
     "data": {
      "text/plain": [
       "array([-30., -30., -30., ...,  30.,  30.,  30.])"
      ]
     },
     "execution_count": 3,
     "metadata": {},
     "output_type": "execute_result"
    }
   ],
   "source": [
    "xdata = data[0] - max(data[0]) + (max(data[0])-min(data[0]))/2  # x von CST # alle Werte in mm   \n",
    "ydata = data[1] - max(data[1]) + (max(data[1])-min(data[1]))/2  # Damit alles um Mittelpunkt gelagert ist\n",
    "zdata = data[2] - max(data[2]) + (max(data[2])-min(data[2]))/2\n",
    "Bxdata = data[3] # T\n",
    "# ebenso hier wechseln\n",
    "Bydata = data[4]\n",
    "Bzdata = data[5]\n",
    "\n",
    "\n",
    "\n",
    "ydata"
   ]
  },
  {
   "cell_type": "code",
   "execution_count": 4,
   "id": "d074ee18",
   "metadata": {},
   "outputs": [],
   "source": [
    "xMaxIndex = np.where(xdata == max(xdata)) #where y finishes\n",
    "xMinIndex = np.where(xdata == min(xdata)) \n",
    "\n",
    "x_Stepwidth = np.where(xdata != xdata[0])[0][0] #stepwidth \n",
    "index_x = [[] for i in range(int(xMaxIndex[0][0] / x_Stepwidth)+1)]\n",
    "\n",
    "for i in range(int(xMaxIndex[0][0] / x_Stepwidth)+1):\n",
    "    index_x[i].append(np.where(xdata == ydata[i * x_Stepwidth])[0])\n",
    "\n",
    "    \n",
    "BxListe = [[] for i in range(int(xMaxIndex[0][0] / x_Stepwidth)+1)] # leere Listen für alle B bei allen x\n",
    "\n",
    "for i in range(int(xMaxIndex[0][0] / x_Stepwidth)+1):\n",
    "    BxListe[i] = Bxdata[tuple(index_x[i])]  # die i-te Liste von BxListe wird mit den WErten aus der i-ten Liste der IndexListe gefüllt\n",
    "    # also alle Bx, deren Index zum gleichen x gehört\n",
    "    \n",
    "    # in erster Liste alle Bx Werte zum ersten x Wert \n"
   ]
  },
  {
   "cell_type": "code",
   "execution_count": 5,
   "id": "df160c4c",
   "metadata": {},
   "outputs": [],
   "source": [
    "yMaxIndex = np.where(ydata == max(ydata)) #where y finishes\n",
    "yMinIndex = np.where(ydata == min(ydata)) \n",
    "\n",
    "y_Stepwidth = np.where(ydata != ydata[0])[0][0] #stepwidth \n",
    "index_y = [[] for i in range(int(yMaxIndex[0][0] / y_Stepwidth)+1)]\n",
    "\n",
    "for i in range(int(yMaxIndex[0][0] / y_Stepwidth)+1):\n",
    "    index_y[i].append(np.where(ydata == ydata[i * y_Stepwidth])[0])\n",
    "\n",
    "    \n",
    "ByListe = [[] for i in range(int(yMaxIndex[0][0] / y_Stepwidth)+1)] # leere Listen für alle B bei allen x\n",
    "\n",
    "for i in range(int(yMaxIndex[0][0] / y_Stepwidth)+1):\n",
    "    ByListe[i] = Bydata[tuple(index_y[i])]  # die i-te Liste von BxListe wird mit den WErten aus der i-ten Liste der IndexListe gefüllt\n",
    "    # also alle Bx, deren Index zum gleichen x gehört\n",
    "    \n",
    "    # in erster Liste alle Bx Werte zum ersten x Wert \n"
   ]
  },
  {
   "cell_type": "code",
   "execution_count": 6,
   "id": "a2e385d5",
   "metadata": {},
   "outputs": [],
   "source": [
    "zMaxIndex = np.where(zdata == max(zdata)) #where y finishes\n",
    "zMinIndex = np.where(zdata == min(zdata)) \n",
    "\n",
    "z_Stepwidth = np.where(zdata != zdata[0])[0][0] #stepwidth \n",
    "index_z = [[] for i in range(int(zMaxIndex[0][0] / z_Stepwidth)+1)]\n",
    "\n",
    "for i in range(int(zMaxIndex[0][0] / z_Stepwidth)+1):\n",
    "    index_z[i].append(np.where(zdata == ydata[i * z_Stepwidth])[0])\n",
    "\n",
    "    \n",
    "BzListe = [[] for i in range(int(zMaxIndex[0][0] / z_Stepwidth)+1)] # leere Listen für alle B bei allen x\n",
    "\n",
    "for i in range(int(zMaxIndex[0][0] / z_Stepwidth)+1):\n",
    "    BzListe[i] = Bzdata[tuple(index_z[i])]  # die i-te Liste von BxListe wird mit den WErten aus der i-ten Liste der IndexListe gefüllt\n",
    "    # also alle Bx, deren Index zum gleichen x gehört\n",
    "    \n",
    "    # in erster Liste alle Bx Werte zum ersten x Wert \n"
   ]
  },
  {
   "cell_type": "code",
   "execution_count": 7,
   "id": "d46d7383",
   "metadata": {},
   "outputs": [
    {
     "data": {
      "text/plain": [
       "12431"
      ]
     },
     "execution_count": 7,
     "metadata": {},
     "output_type": "execute_result"
    }
   ],
   "source": [
    "z_Stepwidth"
   ]
  },
  {
   "cell_type": "code",
   "execution_count": 8,
   "id": "ab28f141",
   "metadata": {},
   "outputs": [],
   "source": [
    "# --------------- B_x File ---------------\n",
    "\n",
    "# CST x Data \n",
    "x = xdata[xMinIndex[0][0]:xMaxIndex[0][0]+1: x_Stepwidth]\n",
    "# zwischen ersten Aufkommen vom kleinsten und größten Wert gehe ich im Abstand, den jeder WErt zum nächsten hat (PosWert0 - PosWert1)\n",
    "# und nehme nur diese Werte - gibt eine Liste mit allen x Werten, aber jeweils nur ein mal\n",
    "Nx = len(x)\n",
    "\n",
    "\n",
    "y = ydata[yMinIndex[0][0]:yMaxIndex[0][0]+1: y_Stepwidth]\n",
    "Ny = len(y)\n",
    "\n",
    "z = zdata[zMinIndex[0][0]:zMaxIndex[0][0]+1: z_Stepwidth]\n",
    "Nz = len(z)\n",
    "\n",
    "\n",
    "# ---------- erste drei Zeilen ----------\n",
    "NxZeile = np.append(Nx, x) \n",
    "NxZeile[1:] = NxZeile[1:] / 1000  # für Astra in m \n",
    "NyZeile = np.append(Ny, y)\n",
    "NyZeile[1:] = NyZeile[1:] / 1000\n",
    "NzZeile = np.append(Nz, z)\n",
    "NzZeile[1:] = NzZeile[1:] / 1000\n",
    "\n",
    "\n",
    "# ---------- Restliche Zeilen ----------\n",
    "\n",
    "BWerte = np.reshape(Bxdata, (Nz, Ny, Nx))\n",
    "# erste Liste: z = -100\n",
    "    # erste davon: x = -400, ... 400\n",
    "    # y = -65\n",
    "    \n",
    "    # dann  = -67, x = -400, ... 400\n",
    "    \n",
    "# zweite Liste: z = -98\n",
    "    # erste davon: x = -400, ... 400\n",
    "    # y = -65\n",
    "    \n",
    "    # dann  = -67, x = -400, ... 400\n",
    "\n",
    "# ---------- Zusammenfügen ----------\n",
    "filename = \"3DFeld.bx\"\n",
    " \n",
    "# writing to csv file\n",
    "with open(filename, 'w', newline='') as csvfile:\n",
    "    # creating a csv writer object\n",
    "    csvwriter = csv.writer(csvfile)\n",
    "     \n",
    "    # writing the fields\n",
    "    csvwriter.writerow(NxZeile)\n",
    "    csvwriter.writerow(NyZeile)\n",
    "    csvwriter.writerow(NzZeile)\n",
    "    for z in range(len(BWerte)):\n",
    "        for y in range(len(BWerte[z])):\n",
    "            csvwriter.writerow(BWerte[z][y])"
   ]
  },
  {
   "cell_type": "code",
   "execution_count": 9,
   "id": "9951bffd",
   "metadata": {},
   "outputs": [
    {
     "name": "stdout",
     "output_type": "stream",
     "text": [
      "401 31 151\n"
     ]
    }
   ],
   "source": [
    "# --------------- B_y File ---------------\n",
    "\n",
    "# CST x Data \n",
    "x = xdata[xMinIndex[0][0]:xMaxIndex[0][0]+1: x_Stepwidth]\n",
    "# zwischen ersten Aufkommen vom kleinsten und größten Wert gehe ich im Abstand, den jeder WErt zum nächsten hat (PosWert0 - PosWert1)\n",
    "# und nehme nur diese Werte - gibt eine Liste mit allen x Werten, aber jeweils nur ein mal\n",
    "Nx = len(x)\n",
    "\n",
    "\n",
    "y = ydata[yMinIndex[0][0]:yMaxIndex[0][0]+1: y_Stepwidth]\n",
    "Ny = len(y)\n",
    "\n",
    "z = zdata[zMinIndex[0][0]:zMaxIndex[0][0]+1: z_Stepwidth]\n",
    "Nz = len(z)\n",
    "\n",
    "\n",
    "# ---------- erste drei Zeilen ----------\n",
    "NxZeile = np.append(Nx, x) \n",
    "NxZeile[1:] = NxZeile[1:] / 1000  # für Astra in m \n",
    "NyZeile = np.append(Ny, y)\n",
    "NyZeile[1:] = NyZeile[1:] / 1000\n",
    "NzZeile = np.append(Nz, z)\n",
    "NzZeile[1:] = NzZeile[1:] / 1000\n",
    "\n",
    "\n",
    "# ---------- Zusammenfügen ----------\n",
    "\n",
    "ByWerte = np.reshape(Bydata, (Nz, Ny, Nx))\n",
    "filename = \"3DFeld.by\"\n",
    " \n",
    "# writing to csv file\n",
    "with open(filename, 'w', newline='') as csvfile:\n",
    "    # creating a csv writer object\n",
    "    csvwriter = csv.writer(csvfile)\n",
    "     \n",
    "    # writing the fields\n",
    "    csvwriter.writerow(NxZeile)\n",
    "    csvwriter.writerow(NyZeile)\n",
    "    csvwriter.writerow(NzZeile)\n",
    "    for z in range(len(ByWerte)):\n",
    "        for y in range(len(ByWerte[z])):\n",
    "            csvwriter.writerow(ByWerte[z][y])\n",
    "    \n",
    "print(Nx, Ny, Nz)"
   ]
  },
  {
   "cell_type": "code",
   "execution_count": 10,
   "id": "d937b66f",
   "metadata": {},
   "outputs": [],
   "source": [
    "# --------------- B_z File ---------------\n",
    "\n",
    "# CST x Data \n",
    "x = xdata[xMinIndex[0][0]:xMaxIndex[0][0]+1: x_Stepwidth]\n",
    "# zwischen ersten Aufkommen vom kleinsten und größten Wert gehe ich im Abstand, den jeder WErt zum nächsten hat (PosWert0 - PosWert1)\n",
    "# und nehme nur diese Werte - gibt eine Liste mit allen x Werten, aber jeweils nur ein mal\n",
    "Nx = len(x)\n",
    "\n",
    "\n",
    "y = ydata[yMinIndex[0][0]:yMaxIndex[0][0]+1: y_Stepwidth]\n",
    "Ny = len(y)\n",
    "\n",
    "z = zdata[zMinIndex[0][0]:zMaxIndex[0][0]+1: z_Stepwidth]\n",
    "Nz = len(z)\n",
    "\n",
    "\n",
    "# ---------- erste drei Zeilen ----------\n",
    "NxZeile = np.append(Nx, x) \n",
    "NxZeile[1:] = NxZeile[1:] / 1000  # für Astra in m \n",
    "NyZeile = np.append(Ny, y)\n",
    "NyZeile[1:] = NyZeile[1:] / 1000\n",
    "NzZeile = np.append(Nz, z)\n",
    "NzZeile[1:] = NzZeile[1:] / 1000\n",
    "\n",
    "# ---------- Zusammenfügen ----------\n",
    "\n",
    "BWerte = np.reshape(Bzdata, (Nz, Ny, Nx))\n",
    "filename = \"3DFeld.bz\"\n",
    " \n",
    "# writing to csv file\n",
    "with open(filename, 'w', newline='') as csvfile:\n",
    "    # creating a csv writer object\n",
    "    csvwriter = csv.writer(csvfile)\n",
    "     \n",
    "    # writing the fields\n",
    "    csvwriter.writerow(NxZeile)\n",
    "    csvwriter.writerow(NyZeile)\n",
    "    csvwriter.writerow(NzZeile)\n",
    "    for z in range(len(BWerte)):\n",
    "        for y in range(len(BWerte[z])):\n",
    "            csvwriter.writerow(BWerte[z][y])   \n"
   ]
  },
  {
   "cell_type": "code",
   "execution_count": null,
   "id": "f1ff9e0e",
   "metadata": {},
   "outputs": [],
   "source": []
  },
  {
   "cell_type": "code",
   "execution_count": null,
   "id": "c17dd6b5",
   "metadata": {},
   "outputs": [],
   "source": []
  },
  {
   "cell_type": "code",
   "execution_count": null,
   "id": "67b23726",
   "metadata": {},
   "outputs": [],
   "source": []
  },
  {
   "cell_type": "code",
   "execution_count": null,
   "id": "6124e768",
   "metadata": {},
   "outputs": [],
   "source": []
  }
 ],
 "metadata": {
  "kernelspec": {
   "display_name": "Python 3",
   "language": "python",
   "name": "python3"
  },
  "language_info": {
   "codemirror_mode": {
    "name": "ipython",
    "version": 3
   },
   "file_extension": ".py",
   "mimetype": "text/x-python",
   "name": "python",
   "nbconvert_exporter": "python",
   "pygments_lexer": "ipython3",
   "version": "3.8.8"
  }
 },
 "nbformat": 4,
 "nbformat_minor": 5
}
